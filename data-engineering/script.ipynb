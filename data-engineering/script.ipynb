{
 "cells": [
  {
   "cell_type": "code",
   "execution_count": 43,
   "metadata": {},
   "outputs": [],
   "source": [
    "# Pouvoir dire quels articles sont les plus achetés par un \"John\" (Sans nom de famille)\n",
    "import pandas as pd\n",
    "dataCustomers = pd.read_csv('customers.csv')\n",
    "dataOrders = pd.read_csv('orders.csv')\n",
    "dataProducts = pd.read_csv('products.csv')\n",
    "customersJohn = []\n",
    "ordersJohn = []\n",
    "\n",
    "productsIdOrdersJohn = {\n",
    "    'ProductID' : [],\n",
    "    'quantity' : []\n",
    "    \n",
    "}\n",
    "\n",
    "for i in range (0, len(dataCustomers)):\n",
    "    name = str(dataCustomers['CustomerName'][i])\n",
    "    if 'John' in name:\n",
    "        customersJohn.append(dataCustomers['CustomerID'][i])\n",
    "\n",
    "for j in range (0, len(customersJohn)):\n",
    "    for i in range (0, len(dataOrders)):\n",
    "        if customersJohn[j] == str(dataOrders['CustomerID'][i]):\n",
    "            ordersJohn.append(dataOrders['OrderID'][i])\n",
    "\n",
    "for i in range (0, len(ordersJohn)):\n",
    "    for j in range (0, len(dataOrders)):\n",
    "        if ordersJohn[i] == dataOrders['OrderID'][j] and dataOrders['OrderStatus'][j] != 'Canceled':\n",
    "            productsIdOrdersJohn['ProductID'].append(dataOrders['ProductID'][j])\n",
    "            productsIdOrdersJohn['quantity'].append(dataOrders['TotalAmount'][j])\n",
    "\n",
    "for i in range (0, len(productsIdOrdersJohn['ProductID'])):\n",
    "    for j in range (0, len(dataProducts)):\n",
    "        if productsIdOrdersJohn['ProductID'][i] == dataProducts['ProductID'][j]:\n",
    "            productsIdOrdersJohn['ProductID'][i] = dataProducts['ProductName'][j]"
   ]
  }
 ],
 "metadata": {
  "kernelspec": {
   "display_name": "base",
   "language": "python",
   "name": "python3"
  },
  "language_info": {
   "codemirror_mode": {
    "name": "ipython",
    "version": 3
   },
   "file_extension": ".py",
   "mimetype": "text/x-python",
   "name": "python",
   "nbconvert_exporter": "python",
   "pygments_lexer": "ipython3",
   "version": "3.9.13"
  }
 },
 "nbformat": 4,
 "nbformat_minor": 2
}
